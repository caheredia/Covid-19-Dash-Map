{
 "cells": [
  {
   "cell_type": "code",
   "execution_count": null,
   "metadata": {
    "collapsed": true
   },
   "outputs": [],
   "source": [
    "import requests\n",
    "\n",
    "from pandas import DataFrame as df\n",
    "import plotly.express as px\n",
    "r = requests.get('https://coronavirus-tracker-api.herokuapp.com/v2/locations')\n",
    "\n",
    "r = df(r.json()['locations'])\n",
    "\n",
    "# Cycle Through r['latest'] & Append Data\n",
    "deaths = []\n",
    "death_size = []\n",
    "confirmed = []\n",
    "confirmed_size = []\n",
    "recovered = []\n",
    "recovered_size = []\n",
    "for x in r['latest']:\n",
    "    confirmed.append(x['confirmed'])\n",
    "    confirmed_size.append(float(x['confirmed']) / 500)\n",
    "    deaths.append(x['deaths'])\n",
    "    death_size.append(float(x['deaths']) / 100)\n",
    "    recovered.append(x['recovered'])\n",
    "    recovered_size.append(float(x['recovered']) / 500)\n",
    "\n",
    "# Cycle Through r['coordinates'] & Append Location\n",
    "lon = []\n",
    "lat = []\n",
    "for x in r['coordinates']:\n",
    "    lon.append(x['longitude'])\n",
    "    lat.append(x['latitude'])\n",
    "    "
   ]
  },
  {
   "cell_type": "markdown",
   "source": [
    "Create a Dataframe column based on the data above"
   ],
   "metadata": {
    "collapsed": false
   }
  },
  {
   "cell_type": "code",
   "execution_count": null,
   "outputs": [],
   "source": [
    "r['confirmed'] = df(confirmed)\n",
    "r['confirmed_size'] = df(confirmed_size)\n",
    "r['deaths'] = df(deaths)\n",
    "r['death_size'] = df(death_size)\n",
    "r['recovered'] = df(recovered)\n",
    "r['recovered_size'] = df(recovered_size)\n",
    "r['lat'] = df(lat)\n",
    "r['lon'] = df(lon)\n",
    "\n",
    "print(r)"
   ],
   "metadata": {
    "collapsed": false,
    "pycharm": {
     "name": "#%%\n"
    }
   }
  }
 ],
 "metadata": {
  "kernelspec": {
   "display_name": "Python 3",
   "language": "python",
   "name": "python3"
  },
  "language_info": {
   "codemirror_mode": {
    "name": "ipython",
    "version": 2
   },
   "file_extension": ".py",
   "mimetype": "text/x-python",
   "name": "python",
   "nbconvert_exporter": "python",
   "pygments_lexer": "ipython2",
   "version": "2.7.6"
  },
  "pycharm": {
   "stem_cell": {
    "cell_type": "raw",
    "source": [],
    "metadata": {
     "collapsed": false
    }
   }
  }
 },
 "nbformat": 4,
 "nbformat_minor": 0
}